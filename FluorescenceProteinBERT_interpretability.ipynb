{
 "cells": [
  {
   "cell_type": "markdown",
   "id": "yKp6pJcXbQPO",
   "metadata": {
    "id": "yKp6pJcXbQPO"
   },
   "source": [
    "### Preparation ###\n",
    "Create folders and upload fp-dataset into the dataset folder.\n",
    "Upload the Protein-Bert and predictor model into the models folder."
   ]
  },
  {
   "cell_type": "code",
   "execution_count": 1,
   "id": "648f1dfb",
   "metadata": {
    "colab": {
     "base_uri": "https://localhost:8080/"
    },
    "id": "648f1dfb",
    "outputId": "ed44c66f-d180-4888-c13c-f98fdc322330"
   },
   "outputs": [
    {
     "name": "stdout",
     "output_type": "stream",
     "text": [
      "cpu\n"
     ]
    }
   ],
   "source": [
    "import torch\n",
    "\n",
    "seed = 1\n",
    "torch.manual_seed(seed)\n",
    "torch.cuda.manual_seed_all(seed)\n",
    "\n",
    "device = torch.device(\"cuda\" if torch.cuda.is_available() else \"cpu\")\n",
    "if(device == \"cuda\"):\n",
    "    torch.cuda.synchronize()\n",
    "print(device)"
   ]
  },
  {
   "cell_type": "code",
   "execution_count": 2,
   "id": "62bdce21",
   "metadata": {
    "colab": {
     "base_uri": "https://localhost:8080/"
    },
    "id": "62bdce21",
    "outputId": "72626d17-2867-407e-afa3-beba34986fcc"
   },
   "outputs": [
    {
     "name": "stderr",
     "output_type": "stream",
     "text": [
      "Ein Unterverzeichnis oder eine Datei mit dem Namen \"models\" existiert bereits.\n"
     ]
    }
   ],
   "source": [
    "!mkdir models"
   ]
  },
  {
   "cell_type": "code",
   "execution_count": 3,
   "id": "f34413ef",
   "metadata": {
    "colab": {
     "base_uri": "https://localhost:8080/"
    },
    "id": "f34413ef",
    "outputId": "0c4c895e-5524-49f6-8f81-13208fa32154"
   },
   "outputs": [
    {
     "name": "stderr",
     "output_type": "stream",
     "text": [
      "Ein Unterverzeichnis oder eine Datei mit dem Namen \"datasets\" existiert bereits.\n"
     ]
    }
   ],
   "source": [
    "!mkdir datasets"
   ]
  },
  {
   "cell_type": "markdown",
   "id": "84777a6b",
   "metadata": {
    "id": "84777a6b"
   },
   "source": [
    "### Architecture design ###"
   ]
  },
  {
   "cell_type": "code",
   "execution_count": 4,
   "id": "d8a8598b",
   "metadata": {
    "colab": {
     "base_uri": "https://localhost:8080/"
    },
    "id": "d8a8598b",
    "outputId": "27365cfa-a69e-456c-eb0c-c984abd461c3"
   },
   "outputs": [
    {
     "name": "stdout",
     "output_type": "stream",
     "text": [
      "Requirement already satisfied: protein_bert_pytorch in c:\\users\\prophet.desktop-uufa83j\\appdata\\local\\programs\\python\\python39\\lib\\site-packages (0.1.0)\n",
      "Requirement already satisfied: einops>=0.3 in c:\\users\\prophet.desktop-uufa83j\\appdata\\local\\programs\\python\\python39\\lib\\site-packages (from protein_bert_pytorch) (0.4.1)\n",
      "Requirement already satisfied: torch>=1.6 in c:\\users\\prophet.desktop-uufa83j\\appdata\\local\\programs\\python\\python39\\lib\\site-packages (from protein_bert_pytorch) (1.9.0)\n",
      "Requirement already satisfied: typing-extensions in c:\\users\\prophet.desktop-uufa83j\\appdata\\local\\programs\\python\\python39\\lib\\site-packages (from torch>=1.6->protein_bert_pytorch) (3.7.4.3)\n",
      "Note: you may need to restart the kernel to use updated packages.\n"
     ]
    },
    {
     "name": "stderr",
     "output_type": "stream",
     "text": [
      "WARNING: You are using pip version 22.0.4; however, version 22.1.2 is available.\n",
      "You should consider upgrading via the 'C:\\Users\\Prophet.DESKTOP-UUFA83J\\AppData\\Local\\Programs\\Python\\Python39\\python.exe -m pip install --upgrade pip' command.\n"
     ]
    }
   ],
   "source": [
    "pip install protein_bert_pytorch"
   ]
  },
  {
   "cell_type": "code",
   "execution_count": 5,
   "id": "849b256f",
   "metadata": {
    "id": "849b256f"
   },
   "outputs": [],
   "source": [
    "import torch\n",
    "from protein_bert_pytorch import ProteinBERT, PretrainingWrapper\n",
    "annotation_max = 1  # 2350\n",
    "\n",
    "def proteinBERT_model():\n",
    "    return ProteinBERT(\n",
    "      num_tokens = 25,\n",
    "      num_annotation = annotation_max,\n",
    "      dim = 512,\n",
    "      dim_global = 256,\n",
    "      depth = 6,\n",
    "      narrow_conv_kernel = 9,\n",
    "      wide_conv_kernel = 9,\n",
    "      wide_conv_dilation = 5,\n",
    "      attn_heads = 8,\n",
    "      attn_dim_head = 64,\n",
    "      local_to_global_attn = False,\n",
    "      local_self_attn = True,\n",
    "      num_global_tokens = 2,\n",
    "      glu_conv = False\n",
    "  )"
   ]
  },
  {
   "cell_type": "code",
   "execution_count": 6,
   "id": "2634c84a",
   "metadata": {},
   "outputs": [],
   "source": [
    "import torch.nn as nn\n",
    "\n",
    "class Identity(nn.Module):\n",
    "    def __init__(self):\n",
    "        super(Identity, self).__init__()\n",
    "        \n",
    "    def forward(self, x):\n",
    "        return x\n",
    "\n",
    "def compactify_model(_model):\n",
    "    _model.to_token_logits = Identity()\n",
    "    _model.to_global_emb = Identity()\n",
    "    _model.to_annotation_logits = Identity()\n",
    "    seq = torch.randint(0, 21, (2, 250)).to(device)\n",
    "    mask = torch.ones(2, 250).bool().to(device)\n",
    "    annotation = torch.randint(0, 1, (2, 512)).float().to(device)\n",
    "    seq_logits, annotation_logits = _model(seq, annotation, mask = mask)\n",
    "    print(seq_logits.shape, annotation_logits.shape)\n",
    "    return _model"
   ]
  },
  {
   "cell_type": "code",
   "execution_count": 7,
   "id": "gg5ma5GpUGmz",
   "metadata": {
    "colab": {
     "base_uri": "https://localhost:8080/"
    },
    "id": "gg5ma5GpUGmz",
    "outputId": "86b0ea54-3b2d-4f55-e9e1-2f53af69919a"
   },
   "outputs": [
    {
     "name": "stdout",
     "output_type": "stream",
     "text": [
      "torch.Size([2, 250, 512]) torch.Size([2, 2, 256])\n"
     ]
    },
    {
     "data": {
      "text/plain": [
       "<All keys matched successfully>"
      ]
     },
     "execution_count": 7,
     "metadata": {},
     "output_type": "execute_result"
    }
   ],
   "source": [
    "import torch.nn as nn\n",
    "\n",
    "class Identity(nn.Module):\n",
    "    def __init__(self):\n",
    "        super(Identity, self).__init__()\n",
    "        \n",
    "    def forward(self, x):\n",
    "        return x\n",
    "    \n",
    "class predictorNet(torch.nn.Module):\n",
    "    def __init__(self, dropout):\n",
    "        super().__init__()\n",
    "        self.flatten = torch.nn.Flatten(start_dim=1)\n",
    "        self.linear1 = torch.nn.Linear(179200, 64)\n",
    "        self.linear2 = torch.nn.Linear(64, 32)\n",
    "        self.linear3 = torch.nn.Linear(32, 2)\n",
    "        self.dropout = torch.nn.Dropout(p=dropout)\n",
    "        \n",
    "    def forward(self, x, dropout=True):\n",
    "        x = self.flatten(x)\n",
    "        if(dropout): x = self.dropout(x)\n",
    "        x = self.linear1(x)\n",
    "        x = torch.nn.functional.softplus(x)\n",
    "        if(dropout): x = self.dropout(x)\n",
    "        x = self.linear2(x)\n",
    "        x = torch.nn.functional.softplus(x)\n",
    "        x = self.linear3(x)\n",
    "        return x\n",
    "\n",
    "dropout1 = 0.075\n",
    "model = compactify_model(proteinBERT_model())\n",
    "model.load_state_dict(torch.load('models/pretrained_drp_0075_m_ex_em_4.pt', map_location=torch.device(device)))\n",
    "model_predictor = predictorNet(dropout1)\n",
    "model_predictor.load_state_dict(torch.load('models/pretrained_drp_0075_b_ex_em_4.pt', map_location=torch.device(device)))"
   ]
  },
  {
   "cell_type": "code",
   "execution_count": 8,
   "id": "pwuy1qqOXz53",
   "metadata": {
    "id": "pwuy1qqOXz53"
   },
   "outputs": [
    {
     "name": "stdout",
     "output_type": "stream",
     "text": [
      "torch.Size([2, 250, 512]) torch.Size([2, 2, 256])\n",
      "torch.Size([2, 250, 512]) torch.Size([2, 2, 256])\n"
     ]
    },
    {
     "data": {
      "text/plain": [
       "<All keys matched successfully>"
      ]
     },
     "execution_count": 8,
     "metadata": {},
     "output_type": "execute_result"
    }
   ],
   "source": [
    "model2 = compactify_model(proteinBERT_model())\n",
    "model2.load_state_dict(torch.load('models/pretrained_drp_0075_m_ex_em_2A.pt', map_location=torch.device(device)))\n",
    "model2_predictor = predictorNet(dropout1)\n",
    "model2_predictor.load_state_dict(torch.load('models/pretrained_drp_0075_b_ex_em_2A.pt', map_location=torch.device(device)))\n",
    "model3 = compactify_model(proteinBERT_model())\n",
    "model3.load_state_dict(torch.load('models/pretrained_drp_0075_m_ex_em_2B.pt', map_location=torch.device(device)))\n",
    "model3_predictor = predictorNet(dropout1)\n",
    "model3_predictor.load_state_dict(torch.load('models/pretrained_drp_0075_b_ex_em_2B.pt', map_location=torch.device(device)))"
   ]
  },
  {
   "cell_type": "markdown",
   "id": "d7d01c62",
   "metadata": {
    "id": "d7d01c62"
   },
   "source": [
    "### Data preparation ###"
   ]
  },
  {
   "cell_type": "code",
   "execution_count": 9,
   "id": "7c4d0a04",
   "metadata": {
    "id": "7c4d0a04"
   },
   "outputs": [],
   "source": [
    "def clean(result):\n",
    "    if(result!=None):\n",
    "        return result\n",
    "    else:\n",
    "        return -1"
   ]
  },
  {
   "cell_type": "code",
   "execution_count": 10,
   "id": "df6ac481",
   "metadata": {
    "colab": {
     "base_uri": "https://localhost:8080/"
    },
    "id": "df6ac481",
    "outputId": "5e9b3d7e-c4ea-4afa-fe57-58697e80b659"
   },
   "outputs": [
    {
     "data": {
      "text/plain": [
       "[1, 21, 17, 22, 23]"
      ]
     },
     "execution_count": 10,
     "metadata": {},
     "output_type": "execute_result"
    }
   ],
   "source": [
    "_acid2int = {'A' : 1,'R' : 2,'N' : 3,'D' : 4,'C' : 5,'Q' : 6,'E' : 7,'G' : 8,'H' : 9,'I' : 10,\n",
    "          'L' : 11,'K' : 12,'M' : 13,'F' : 14,'P' : 15,'S' : 16,'T' : 17,'W' : 18,'Y' : 19,\n",
    "          'V' : 20,'B' : 21,'Z' : 22,'X' : 23,'*' : 24,'-' : 25,'?' : 0}\n",
    "\n",
    "def acid2int(seq : str) -> list:\n",
    "    return [(_acid2int[i]) for i in seq]\n",
    "\n",
    "x = 'ABTZX'\n",
    "acid2int(x) # returns [1, 21, 17, 22, 23]"
   ]
  },
  {
   "cell_type": "code",
   "execution_count": 11,
   "id": "7734bf10",
   "metadata": {
    "colab": {
     "base_uri": "https://localhost:8080/"
    },
    "id": "7734bf10",
    "outputId": "920a1b77-4557-45d3-d373-2d1a5c49bdb1"
   },
   "outputs": [
    {
     "name": "stdout",
     "output_type": "stream",
     "text": [
      "797\n",
      "617\n"
     ]
    }
   ],
   "source": [
    "import json\n",
    "   \n",
    "# Configuration\n",
    "min_seq=25\n",
    "max_seq=350\n",
    "    \n",
    "# Opening JSON file\n",
    "f = open('datasets/fp_database.json', encoding='UTF-8')\n",
    "normalizer = [0.002, 0.002, 1, 0.01]\n",
    "\n",
    "fp_dataset = []\n",
    "name_list = []\n",
    "# returns JSON object as \n",
    "# a dictionary\n",
    "data = json.load(f)\n",
    "# Iterating through the json\n",
    "# list\n",
    "print(len(data))\n",
    "for index, i in enumerate(data):\n",
    "    try:  # To read incomplete files and make this method more robust\n",
    "        name=i['name']\n",
    "        seq=i['seq']\n",
    "        em=i['states'][0]['em_max']\n",
    "        ex=i['states'][0]['ex_max']\n",
    "        qy=i['states'][0]['qy']\n",
    "        br=i['states'][0]['brightness']\n",
    "        if(index==0):\n",
    "            print(name)\n",
    "            print()\n",
    "            print(seq)\n",
    "            print(qy)\n",
    "            print(br)\n",
    "            print(em)\n",
    "            print(ex)\n",
    "        if(seq!=None) and (em!=None) and (ex!=None): #  and (qy!=None):\n",
    "            if(len(seq)>min_seq) and (len(seq)<max_seq) and (em>0) and (ex>0):\n",
    "                seq_ = seq + \"\".join([\"?\"]*(max_seq-len(seq)))\n",
    "                label = torch.tensor([em, ex]).float()\n",
    "                sequence = torch.tensor(acid2int(seq_))\n",
    "                fp_dataset.append([sequence, torch.tensor([label[0]*normalizer[0], label[1]*normalizer[1]])])\n",
    "                # fp_dataset.append([sequence, torch.tensor([torch.tensor([em]).float()*normalizer[0]])])\n",
    "                name_list.append(name)\n",
    "    except:\n",
    "        True\n",
    "# Closing file\n",
    "f.close()\n",
    "\n",
    "print(len(fp_dataset))"
   ]
  },
  {
   "cell_type": "code",
   "execution_count": 12,
   "id": "fb97cb3e",
   "metadata": {},
   "outputs": [],
   "source": [
    "import pickle\n",
    "normalizer = [0.002, 0.002, 1, 0.01]\n",
    "with (open(\"datasets/test_dataset_split_fp.pkl\", \"rb\")) as openfile:\n",
    "    [train_set, test_set] = pickle.load(openfile)  \n",
    "# print(test_set[0])"
   ]
  },
  {
   "cell_type": "code",
   "execution_count": 13,
   "id": "06842141",
   "metadata": {},
   "outputs": [
    {
     "name": "stdout",
     "output_type": "stream",
     "text": [
      "[[0, 'mcavRFP'], [1, 'cgfTagRFP'], [2, 'AQ14'], [3, 'rsFusionRed1'], [4, 'mRhubarb713'], [5, 'super-TagRFP'], [6, 'G1'], [7, 'Superfolder CFP'], [8, 'LanFP2'], [9, 'mEosFP-F173S'], [10, 'GFPxm18uv'], [11, 'mStable'], [12, 'mNeptune2.5'], [13, 'iRFP682'], [14, 'ShyRFP'], [15, 'deGFP1'], [16, 'mMiCy'], [17, 'sarcGFP'], [18, 'mEos4b'], [19, 'mEGFP'], [20, 'Folding Reporter GFP'], [21, 'mStrawberry'], [22, 'mCherry-XL'], [23, 'mEos2-A69T'], [24, 'mEYFP'], [25, 'Topaz'], [26, 'mNeptune2'], [27, 'd-RFP618'], [28, 'GFP(E222G)'], [29, 'h2-3'], [30, 'mGrape1'], [31, 'Skylan-NS'], [32, 'mGeos-S'], [33, 'mCherry'], [34, 'BDFP1.6'], [35, 'D10'], [36, 'RFP630'], [37, 'ptilGFP'], [38, 'eforCP'], [39, 'EBFP1.2'], [40, 'roGFP1-R8'], [41, 'scubRFP'], [42, 'mNeonGreen'], [43, 'rsFolder'], [44, 'Enhanced Cyan-Emitting GFP'], [45, 'avGFP'], [46, 'Sapphire'], [47, 'W1C'], [48, 'mRFP1-Q66S'], [49, 'mCardinal']]\n"
     ]
    }
   ],
   "source": [
    "# Get all corresponding protein names for the test-set used as the unseen reference during training process\n",
    "protein_name_list = []\n",
    "for protein_index, test_protein in enumerate(test_set):\n",
    "    for index, element in enumerate(fp_dataset):\n",
    "        if torch.all(test_protein[0].eq(element[0])):\n",
    "            protein_name_list.append([protein_index, name_list[index]])\n",
    "            continue\n",
    "print(protein_name_list)"
   ]
  },
  {
   "cell_type": "code",
   "execution_count": 14,
   "id": "9579d0e0",
   "metadata": {
    "colab": {
     "base_uri": "https://localhost:8080/"
    },
    "id": "9579d0e0",
    "outputId": "b91bc8e9-7c4b-43c5-9c20-45dc9c5bceda"
   },
   "outputs": [
    {
     "name": "stdout",
     "output_type": "stream",
     "text": [
      "36\n",
      "4\n"
     ]
    }
   ],
   "source": [
    "from torch.utils.data import DataLoader\n",
    "batch_size=16\n",
    "train_dataloader = DataLoader(train_set, batch_size=batch_size, shuffle=True)\n",
    "test_dataloader = DataLoader(test_set, batch_size=batch_size, shuffle=True)\n",
    "\n",
    "# Sizes of resulting train and test-set\n",
    "print(len(train_dataloader))\n",
    "print(len(test_dataloader))"
   ]
  },
  {
   "cell_type": "code",
   "execution_count": 15,
   "id": "df08dd31",
   "metadata": {
    "colab": {
     "base_uri": "https://localhost:8080/"
    },
    "id": "df08dd31",
    "outputId": "b1202540-1fac-45ad-93db-bedc0deb5ab8"
   },
   "outputs": [
    {
     "name": "stdout",
     "output_type": "stream",
     "text": [
      "16\n",
      "16\n",
      "16\n",
      "2\n"
     ]
    }
   ],
   "source": [
    "for index, element in enumerate(test_dataloader):\n",
    "    print(len(element[0]))"
   ]
  },
  {
   "cell_type": "markdown",
   "id": "012234c9",
   "metadata": {
    "id": "012234c9"
   },
   "source": [
    "### Predictions and Evaluation ###"
   ]
  },
  {
   "cell_type": "code",
   "execution_count": 16,
   "id": "41ea6b39",
   "metadata": {
    "id": "41ea6b39"
   },
   "outputs": [],
   "source": [
    "global Epoch, lc_train, lc_test\n",
    "Epoch = 0\n",
    "lc_train, lc_test = [], []"
   ]
  },
  {
   "cell_type": "code",
   "execution_count": 17,
   "id": "lGcG6pItGJqZ",
   "metadata": {
    "id": "lGcG6pItGJqZ"
   },
   "outputs": [],
   "source": [
    "lr_factor = 1.0"
   ]
  },
  {
   "cell_type": "code",
   "execution_count": 18,
   "id": "1db73dc5",
   "metadata": {
    "id": "1db73dc5"
   },
   "outputs": [],
   "source": [
    "# do the following in a loop for a lot of sequences and annotations\n",
    "from tqdm.notebook import tqdm\n",
    "criterion = torch.nn.MSELoss()\n",
    "\n",
    "# only spectra\n",
    "def train_supervised(_model, _predictor, dataloader_train, dataloader_test, lr=1, epochs=10, dropout=True, dropout_flipping=False):\n",
    "    dropout = dropout\n",
    "    global Epoch\n",
    "    optimizer = torch.optim.Adam(_model.parameters(),    lr=lr*0.0000001*lr_factor)\n",
    "    optimizer2 = torch.optim.Adam(_predictor.parameters(), lr=lr*0.0000002*lr_factor)  \n",
    "    summed_loss = 0.0\n",
    "    for epoch in range(epochs):\n",
    "        Epoch+=1\n",
    "        if(Epoch%10==1):\n",
    "            print(\"epoch: \" + str(Epoch-1))\n",
    "        summed_loss = 0.0\n",
    "        with tqdm(total=len(dataloader_train)) as pbar:\n",
    "            train_index=0\n",
    "            # training process\n",
    "            for index, (inputs,labels) in enumerate(dataloader_train):\n",
    "                optimizer.zero_grad()\n",
    "                optimizer2.zero_grad()\n",
    "\n",
    "                annotation_list = [[0]*512]*inputs.shape[0]\n",
    "                annotation = torch.tensor(annotation_list).float()\n",
    "                mask       = torch.ones(inputs.shape).bool()\n",
    "                \n",
    "                # print(inputs.shape, annotation.shape, mask.shape)\n",
    "                representation, annotation_repr = _model(inputs.to(device), annotation.to(device), mask = mask.to(device))\n",
    "                if(dropout_flipping==True):\n",
    "                  dropout = not dropout\n",
    "                x = _predictor(representation, dropout=dropout)\n",
    "                # print(labels.shape, x.shape)\n",
    "                # print(inputs)\n",
    "                loss = criterion(labels.to(device), x.to(device))\n",
    "                summed_loss+=loss.detach()\n",
    "                train_index += inputs.shape[0]\n",
    "                \n",
    "                loss.backward()\n",
    "                optimizer.step()\n",
    "                optimizer2.step()\n",
    "                pbar.set_description(f'train_loss: {\"%.5f\" % (summed_loss/train_index*100)}')\n",
    "                pbar.update(1)\n",
    "            \n",
    "            # evaluation process\n",
    "            test_index = 0\n",
    "            summed_test_loss = 0\n",
    "            optimizer.zero_grad()\n",
    "            optimizer2.zero_grad()   \n",
    "            for _, (inputs,labels) in enumerate(dataloader_test):\n",
    "                \n",
    "                annotation_list = [[0]*512]*inputs.shape[0]\n",
    "                annotation = torch.tensor(annotation_list).float()\n",
    "                mask       = torch.ones(inputs.shape).bool()\n",
    "                representation, annotation_repr = _model(inputs.to(device), annotation.to(device), mask = mask.to(device))\n",
    "                x = _predictor(representation, dropout=False)\n",
    "                loss = criterion(labels.to(device), x.to(device))\n",
    "                test_index += inputs.shape[0]\n",
    "                summed_test_loss+=loss.detach()\n",
    "            \n",
    "            lc_train.append(summed_loss/train_index) \n",
    "            lc_test.append(summed_test_loss/test_index)    \n",
    "            pbar.set_description(f'train_loss: {\"%.5f\" % (summed_loss/train_index*100)}, test_loss: {\"%.5f\" % (summed_test_loss/test_index*100)}')\n",
    "            pbar.close()\n"
   ]
  },
  {
   "cell_type": "code",
   "execution_count": 19,
   "id": "4ca59f72",
   "metadata": {
    "colab": {
     "base_uri": "https://localhost:8080/"
    },
    "id": "4ca59f72",
    "outputId": "96a56394-f9e2-4d84-8bc3-b7cf34252d46"
   },
   "outputs": [
    {
     "name": "stdout",
     "output_type": "stream",
     "text": [
      "train_data\n",
      "[[504.0, 498.322], [502.0, 507.367], [591.0, 571.499], [480.0, 486.986], [520.0, 513.335], [538.0, 538.577], [506.0, 534.654]]\n",
      "test_data\n",
      "[[506.0, 469.448], [509.0, 526.012], [605.0, 603.214], [580.0, 574.099], [516.0, 511.58], [578.0, 525.968], [485.0, 532.141]]\n"
     ]
    }
   ],
   "source": [
    "def print_test_instances(dataloader, model, model_predictor):\n",
    "    for index, (inputs,labels) in enumerate(dataloader): \n",
    "        annotation_list = [[0]*512]*inputs.shape[0]\n",
    "        annotation = torch.tensor(annotation_list).float()\n",
    "        mask       = torch.ones(inputs.shape).bool()\n",
    "        token, annotation_logits = model(inputs.to(device), annotation.to(device), mask = mask.to(device))\n",
    "        x = model_predictor(token, dropout=False)\n",
    "        loss = criterion(labels.to(device), x.to(device))\n",
    "        value_list = []\n",
    "        for index in range(inputs.shape[0]):\n",
    "            value_list.append([round((labels[index].cpu().detach().numpy()/normalizer[0])[0],3), \n",
    "                             round((x[index].cpu().detach().numpy()/normalizer[0])[0],3)])  # :2]) # , loss)\n",
    "            if(index>5):\n",
    "              break\n",
    "        print(value_list)\n",
    "        break\n",
    "\n",
    "print(\"train_data\")\n",
    "print_test_instances(train_dataloader, model, model_predictor)\n",
    "print(\"test_data\")\n",
    "print_test_instances(test_dataloader, model, model_predictor)"
   ]
  },
  {
   "cell_type": "code",
   "execution_count": 20,
   "id": "9bd3274a",
   "metadata": {},
   "outputs": [
    {
     "name": "stdout",
     "output_type": "stream",
     "text": [
      "model1: train_data\n"
     ]
    },
    {
     "data": {
      "application/vnd.jupyter.widget-view+json": {
       "model_id": "485b12b7c107469ca5ffb97b95f79f3b",
       "version_major": 2,
       "version_minor": 0
      },
      "text/plain": [
       "  0%|          | 0/36 [00:00<?, ?it/s]"
      ]
     },
     "metadata": {},
     "output_type": "display_data"
    },
    {
     "name": "stdout",
     "output_type": "stream",
     "text": [
      "mean error: (15.694, 23.463)\n",
      "mean values: (544.2975515017177, 508.41054458761846)\n",
      "\n",
      "\n",
      "model1: test_data\n"
     ]
    },
    {
     "data": {
      "application/vnd.jupyter.widget-view+json": {
       "model_id": "8edbea9f3e494633bd0be5df1061b222",
       "version_major": 2,
       "version_minor": 0
      },
      "text/plain": [
       "  0%|          | 0/4 [00:00<?, ?it/s]"
      ]
     },
     "metadata": {},
     "output_type": "display_data"
    },
    {
     "name": "stdout",
     "output_type": "stream",
     "text": [
      "mean error: (29.448, 39.976)\n",
      "mean values: (557.6521732496178, 521.1956515104874)\n",
      "model2: train_data\n"
     ]
    },
    {
     "data": {
      "application/vnd.jupyter.widget-view+json": {
       "model_id": "ae3a6f3bece04d6c873903b1252ac0bc",
       "version_major": 2,
       "version_minor": 0
      },
      "text/plain": [
       "  0%|          | 0/36 [00:00<?, ?it/s]"
      ]
     },
     "metadata": {},
     "output_type": "display_data"
    },
    {
     "name": "stdout",
     "output_type": "stream",
     "text": [
      "mean error: (15.909, 24.653)\n",
      "mean values: (544.414312272871, 508.2636518747793)\n",
      "\n",
      "\n",
      "model2: test_data\n"
     ]
    },
    {
     "data": {
      "application/vnd.jupyter.widget-view+json": {
       "model_id": "10d9e918b89a4a0d88b6fcd3b1864e16",
       "version_major": 2,
       "version_minor": 0
      },
      "text/plain": [
       "  0%|          | 0/4 [00:00<?, ?it/s]"
      ]
     },
     "metadata": {},
     "output_type": "display_data"
    },
    {
     "name": "stdout",
     "output_type": "stream",
     "text": [
      "mean error: (22.676, 36.174)\n",
      "mean values: (554.5217371401579, 518.4999993365744)\n",
      "model3: train_data\n"
     ]
    },
    {
     "data": {
      "application/vnd.jupyter.widget-view+json": {
       "model_id": "92f238fdb41247c0be5aa3da8724e008",
       "version_major": 2,
       "version_minor": 0
      },
      "text/plain": [
       "  0%|          | 0/36 [00:00<?, ?it/s]"
      ]
     },
     "metadata": {},
     "output_type": "display_data"
    },
    {
     "name": "stdout",
     "output_type": "stream",
     "text": [
      "mean error: (18.216, 27.369)\n",
      "mean values: (543.5122407672544, 507.79660873269404)\n",
      "\n",
      "\n",
      "model3: test_data\n"
     ]
    },
    {
     "data": {
      "application/vnd.jupyter.widget-view+json": {
       "model_id": "db2c8b852bc44ba394a443fa1586aeda",
       "version_major": 2,
       "version_minor": 0
      },
      "text/plain": [
       "  0%|          | 0/4 [00:00<?, ?it/s]"
      ]
     },
     "metadata": {},
     "output_type": "display_data"
    },
    {
     "name": "stdout",
     "output_type": "stream",
     "text": [
      "mean error: (30.638, 42.891)\n",
      "mean values: (554.4130421514096, 515.6739130434783)\n"
     ]
    }
   ],
   "source": [
    "# Calculate mean square error over the full test-set\n",
    "\n",
    "def calculate_mse(dataloader, model, model_predictor, root=False):\n",
    "    instance_number=0\n",
    "    summed_squared_error_em=0\n",
    "    summed_squared_error_ex=0\n",
    "    summed_value_em=0\n",
    "    summed_value_ex=0\n",
    "    with tqdm(total=len(dataloader)) as pbar:\n",
    "        for index, (inputs,labels) in enumerate(dataloader): \n",
    "            annotation = torch.tensor([[0]*512]*inputs.shape[0]).float()\n",
    "            mask       = torch.ones(inputs.shape).bool()\n",
    "            token, annotation_logits = model(inputs.to(device), annotation.to(device), mask = mask.to(device))\n",
    "            x = model_predictor(token, dropout=False)\n",
    "            # print(x.shape)\n",
    "            for index_batch in range(x.shape[0]-1):\n",
    "                instance_number+=1\n",
    "                em_label=(labels[index_batch].cpu().detach().numpy()/normalizer[0])[0]\n",
    "                em_output=(x[index_batch].cpu().detach().numpy()/normalizer[0])[0]\n",
    "                ex_label=(labels[index_batch].cpu().detach().numpy()/normalizer[0])[1]\n",
    "                ex_output=(x[index_batch].cpu().detach().numpy()/normalizer[0])[1]\n",
    "                summed_squared_error_em+=(em_label-em_output)**2\n",
    "                summed_squared_error_ex+=(ex_label-ex_output)**2\n",
    "                summed_value_em+=em_label\n",
    "                summed_value_ex+=ex_label\n",
    "            mse_em=(summed_squared_error_em/instance_number)\n",
    "            mse_ex=(summed_squared_error_ex/instance_number)\n",
    "            m_em=(summed_value_em/instance_number)\n",
    "            m_ex=(summed_value_ex/instance_number)\n",
    "            pbar.set_description(f'MSE emission: {\"%.3f\" % mse_em}, MSE excitation: {\"%.3f\" % mse_ex}')\n",
    "            pbar.update(1)\n",
    "        return mse_em, mse_ex, m_em, m_ex\n",
    "\n",
    "print(\"model1: train_data\")\n",
    "mse_em, mse_ex, m_em, m_ex= calculate_mse(train_dataloader, model, model_predictor)\n",
    "print(\"mean error: \" + str((round(mse_em**0.5,3), round(mse_ex**0.5,3))))\n",
    "print(\"mean values: \" + str((m_em, m_ex)))\n",
    "print(\"\")\n",
    "print(\"\")\n",
    "print(\"model1: test_data\")\n",
    "mse_em, mse_ex, m_em, m_ex= calculate_mse(test_dataloader, model, model_predictor)\n",
    "print(\"mean error: \" + str((round(mse_em**0.5,3), round(mse_ex**0.5,3))))\n",
    "print(\"mean values: \" + str((m_em, m_ex)))\n",
    "\n",
    "print(\"model2: train_data\")\n",
    "mse_em, mse_ex, m_em, m_ex= calculate_mse(train_dataloader, model2, model2_predictor)\n",
    "print(\"mean error: \" + str((round(mse_em**0.5,3), round(mse_ex**0.5,3))))\n",
    "print(\"mean values: \" + str((m_em, m_ex)))\n",
    "print(\"\")\n",
    "print(\"\")\n",
    "print(\"model2: test_data\")\n",
    "mse_em, mse_ex, m_em, m_ex= calculate_mse(test_dataloader, model2, model2_predictor)\n",
    "print(\"mean error: \" + str((round(mse_em**0.5,3), round(mse_ex**0.5,3))))\n",
    "print(\"mean values: \" + str((m_em, m_ex)))\n",
    "\n",
    "print(\"model3: train_data\")\n",
    "mse_em, mse_ex, m_em, m_ex= calculate_mse(train_dataloader, model3, model3_predictor)\n",
    "print(\"mean error: \" + str((round(mse_em**0.5,3), round(mse_ex**0.5,3))))\n",
    "print(\"mean values: \" + str((m_em, m_ex)))\n",
    "print(\"\")\n",
    "print(\"\")\n",
    "print(\"model3: test_data\")\n",
    "mse_em, mse_ex, m_em, m_ex= calculate_mse(test_dataloader, model3, model3_predictor)\n",
    "print(\"mean error: \" + str((round(mse_em**0.5,3), round(mse_ex**0.5,3))))\n",
    "print(\"mean values: \" + str((m_em, m_ex)))"
   ]
  },
  {
   "cell_type": "markdown",
   "id": "6c85292a",
   "metadata": {},
   "source": [
    "### Interpretability ###"
   ]
  },
  {
   "cell_type": "code",
   "execution_count": 21,
   "id": "c7974a7a",
   "metadata": {},
   "outputs": [
    {
     "name": "stdout",
     "output_type": "stream",
     "text": [
      "Requirement already satisfied: captum in c:\\users\\prophet.desktop-uufa83j\\appdata\\local\\programs\\python\\python39\\lib\\site-packages (0.4.1)\n",
      "Requirement already satisfied: matplotlib in c:\\users\\prophet.desktop-uufa83j\\appdata\\local\\programs\\python\\python39\\lib\\site-packages (from captum) (3.4.2)\n",
      "Requirement already satisfied: torch>=1.2 in c:\\users\\prophet.desktop-uufa83j\\appdata\\local\\programs\\python\\python39\\lib\\site-packages (from captum) (1.9.0)\n",
      "Requirement already satisfied: numpy in c:\\users\\prophet.desktop-uufa83j\\appdata\\local\\programs\\python\\python39\\lib\\site-packages (from captum) (1.19.5)Note: you may need to restart the kernel to use updated packages.\n"
     ]
    },
    {
     "name": "stderr",
     "output_type": "stream",
     "text": [
      "WARNING: You are using pip version 22.0.4; however, version 22.1.2 is available.\n",
      "You should consider upgrading via the 'C:\\Users\\Prophet.DESKTOP-UUFA83J\\AppData\\Local\\Programs\\Python\\Python39\\python.exe -m pip install --upgrade pip' command.\n"
     ]
    },
    {
     "name": "stdout",
     "output_type": "stream",
     "text": [
      "\n",
      "Requirement already satisfied: typing-extensions in c:\\users\\prophet.desktop-uufa83j\\appdata\\local\\programs\\python\\python39\\lib\\site-packages (from torch>=1.2->captum) (3.7.4.3)\n",
      "Requirement already satisfied: pyparsing>=2.2.1 in c:\\users\\prophet.desktop-uufa83j\\appdata\\local\\programs\\python\\python39\\lib\\site-packages (from matplotlib->captum) (2.4.7)\n",
      "Requirement already satisfied: cycler>=0.10 in c:\\users\\prophet.desktop-uufa83j\\appdata\\local\\programs\\python\\python39\\lib\\site-packages (from matplotlib->captum) (0.10.0)\n",
      "Requirement already satisfied: pillow>=6.2.0 in c:\\users\\prophet.desktop-uufa83j\\appdata\\local\\programs\\python\\python39\\lib\\site-packages (from matplotlib->captum) (9.0.1)\n",
      "Requirement already satisfied: kiwisolver>=1.0.1 in c:\\users\\prophet.desktop-uufa83j\\appdata\\local\\programs\\python\\python39\\lib\\site-packages (from matplotlib->captum) (1.3.1)\n",
      "Requirement already satisfied: python-dateutil>=2.7 in c:\\users\\prophet.desktop-uufa83j\\appdata\\local\\programs\\python\\python39\\lib\\site-packages (from matplotlib->captum) (2.8.2)\n",
      "Requirement already satisfied: six in c:\\users\\prophet.desktop-uufa83j\\appdata\\local\\programs\\python\\python39\\lib\\site-packages (from cycler>=0.10->matplotlib->captum) (1.15.0)\n"
     ]
    }
   ],
   "source": [
    "pip install captum"
   ]
  },
  {
   "cell_type": "code",
   "execution_count": 22,
   "id": "97046bab",
   "metadata": {},
   "outputs": [],
   "source": [
    "import captum.attr\n",
    "\n",
    "\n",
    "class combinedModel(nn.Module):\n",
    "    def __init__(self, _model, _model_predictor):\n",
    "        super(combinedModel, self).__init__()\n",
    "        self._model = _model\n",
    "        self._model_predictor = _model_predictor\n",
    "        \n",
    "    def forward(self, x):\n",
    "        annotation_list = [[0]*512]*x.shape[0]\n",
    "        annotation = torch.tensor(annotation_list).float()\n",
    "        mask       = torch.ones(x.shape).bool()\n",
    "        token, annotation_logits = self._model(x.to(device), annotation.to(device), mask = mask.to(device))\n",
    "        x2 = self._model_predictor(token, dropout=False)\n",
    "        return x2\n",
    "\n",
    "\n",
    "\n",
    "net1 = combinedModel(model, model_predictor)\n",
    "ablator1 = captum.attr.FeatureAblation(net1)\n",
    "\n",
    "net2 = combinedModel(model2, model2_predictor)\n",
    "ablator2 = captum.attr.FeatureAblation(net2)\n",
    "\n",
    "net3 = combinedModel(model3, model3_predictor)\n",
    "ablator3 = captum.attr.FeatureAblation(net3)"
   ]
  },
  {
   "cell_type": "code",
   "execution_count": 23,
   "id": "3fc45a60",
   "metadata": {},
   "outputs": [
    {
     "name": "stdout",
     "output_type": "stream",
     "text": [
      "train_data\n"
     ]
    },
    {
     "name": "stderr",
     "output_type": "stream",
     "text": [
      "Feature Ablation attribution: 100%|██████████████████████████████████████████████████| 351/351 [05:29<00:00,  1.07it/s]\n",
      "Feature Ablation attribution: 100%|██████████████████████████████████████████████████| 351/351 [05:24<00:00,  1.08it/s]\n",
      "Feature Ablation attribution: 100%|██████████████████████████████████████████████████| 351/351 [04:39<00:00,  1.26it/s]\n"
     ]
    }
   ],
   "source": [
    "for index, (inputs,labels) in enumerate(train_dataloader): \n",
    "    instances = inputs[0:5].clone().detach()# .unsqueeze(0)\n",
    "    break\n",
    "    \n",
    "def ablator_interpretability(_net, _ablator, _instances):\n",
    "    x = _net.forward(_instances)\n",
    "    attr = _ablator.attribute(_instances, show_progress=True, baselines=0)\n",
    "    return attr, labels, x\n",
    "\n",
    "\n",
    "print(\"train_data\")\n",
    "train_results1 = ablator_interpretability(net1, ablator1, instances)\n",
    "train_results2 = ablator_interpretability(net2, ablator2, instances)\n",
    "train_results3 = ablator_interpretability(net3, ablator3, instances)"
   ]
  },
  {
   "cell_type": "markdown",
   "id": "82564f09",
   "metadata": {},
   "source": [
    "### Visualization ###"
   ]
  },
  {
   "cell_type": "code",
   "execution_count": 96,
   "id": "c9b528d4",
   "metadata": {},
   "outputs": [
    {
     "name": "stdout",
     "output_type": "stream",
     "text": [
      "[[0, 'mNeptune2'], [1, 'mCherry'], [2, 'D10'], [3, 'Sapphire'], [4, 'EBFP1.2']]\n"
     ]
    },
    {
     "data": {
      "image/png": "[encoded data removed]",
      "text/plain": [
       "<Figure size 600x400 with 1 Axes>"
      ]
     },
     "metadata": {
      "needs_background": "light"
     },
     "output_type": "display_data"
    },
    {
     "name": "stdout",
     "output_type": "stream",
     "text": [
      "labels:[475. 433.], predictions:[474.946   426.93765]\n"
     ]
    },
    {
     "data": {
      "image/png": "[encoded data removed]",
      "text/plain": [
       "<Figure size 600x400 with 1 Axes>"
      ]
     },
     "metadata": {
      "needs_background": "light"
     },
     "output_type": "display_data"
    },
    {
     "name": "stdout",
     "output_type": "stream",
     "text": [
      "labels:[522. 503.], predictions:[526.74634 500.98227]\n"
     ]
    },
    {
     "data": {
      "image/png": "[encoded data removed]",
      "text/plain": [
       "<Figure size 600x400 with 1 Axes>"
      ]
     },
     "metadata": {
      "needs_background": "light"
     },
     "output_type": "display_data"
    },
    {
     "name": "stdout",
     "output_type": "stream",
     "text": [
      "labels:[675. 375.], predictions:[638.8241 411.4286]\n"
     ]
    },
    {
     "data": {
      "image/png": "[encoded data removed]",
      "text/plain": [
       "<Figure size 600x400 with 1 Axes>"
      ]
     },
     "metadata": {
      "needs_background": "light"
     },
     "output_type": "display_data"
    },
    {
     "name": "stdout",
     "output_type": "stream",
     "text": [
      "labels:[495. 468.], predictions:[505.79153 465.2231 ]\n"
     ]
    },
    {
     "data": {
      "image/png": "[encoded data removed]",
      "text/plain": [
       "<Figure size 600x400 with 1 Axes>"
      ]
     },
     "metadata": {
      "needs_background": "light"
     },
     "output_type": "display_data"
    },
    {
     "name": "stdout",
     "output_type": "stream",
     "text": [
      "labels:[528. 515.], predictions:[522.4716  498.88446]\n"
     ]
    }
   ],
   "source": [
    "import numpy\n",
    "import matplotlib\n",
    "import matplotlib.pyplot as plt\n",
    "\n",
    "def visualize_attribution(attr_list, size=5, log=True, title=\"\"):\n",
    "    sort_index = range(size)\n",
    "    # uncomment to sort by emission wavelength maximum\n",
    "    # sorting_values = labels[:5,0].detach().numpy()\n",
    "    # s = numpy.array(sorting_values)\n",
    "    # sort_index = numpy.argsort(s)\n",
    "    \n",
    "    # index=2\n",
    "    for index in range(size):\n",
    "        plot_data = []\n",
    "        for model_nr in range(len(attr_list)): # bottom, top\n",
    "            attribution, labels, predictions = attr_list[model_nr]\n",
    "            data = attribution.detach().numpy()[index*2:(index+1)*2]\n",
    "            data = data[:,:350]**2\n",
    "            plot_data.append(data[0])\n",
    "            plot_data.append(data[1])\n",
    "\n",
    "        # print(attribution.shape)\n",
    "        # for index in sort_index:\n",
    "        default_dpi = matplotlib.rcParamsDefault['figure.dpi']\n",
    "        matplotlib.rcParams['figure.dpi'] = default_dpi*1\n",
    "        ax = plt.gca()\n",
    "        ax.set_aspect(10)\n",
    "        ax.set_yticks([0.5,1.5,2.5,3.5], minor=False)\n",
    "        ax.set_yticklabels([\"m1 ex\",\"m1 em\",\"m2 ex\",\"m2 em\"], minor=False)\n",
    "        plt.pcolor(plot_data, cmap=matplotlib.cm.Blues)\n",
    "        if(title == \"\"):\n",
    "            plt.title('Gradient based interpretability, instance ' + str(index+1))\n",
    "        else:\n",
    "            plt.title(title)\n",
    "        plt.show()\n",
    "        if(log==True):\n",
    "            print(\"labels:\" + str(labels[index].detach().numpy()/normalizer[0]) + \", predictions:\" + str(predictions[index].detach().numpy()/normalizer[0]))\n",
    "\n",
    "protein_name_list = []\n",
    "for protein_index, test_protein in enumerate(instances):\n",
    "    for index, element in enumerate(fp_dataset):\n",
    "        if torch.all(test_protein.eq(element[0])):\n",
    "            protein_name_list.append([protein_index, name_list[index]])\n",
    "            # continue\n",
    "print(protein_name_list)\n",
    "\n",
    "visualize_attribution([train_results3, train_results2])"
   ]
  },
  {
   "cell_type": "code",
   "execution_count": 25,
   "id": "910bf189",
   "metadata": {},
   "outputs": [
    {
     "name": "stdout",
     "output_type": "stream",
     "text": [
      "test_data\n"
     ]
    },
    {
     "name": "stderr",
     "output_type": "stream",
     "text": [
      "Feature Ablation attribution: 100%|██████████████████████████████████████████████████| 351/351 [05:48<00:00,  1.01it/s]\n",
      "Feature Ablation attribution: 100%|██████████████████████████████████████████████████| 351/351 [05:49<00:00,  1.00it/s]\n",
      "Feature Ablation attribution: 100%|██████████████████████████████████████████████████| 351/351 [04:56<00:00,  1.18it/s]\n"
     ]
    }
   ],
   "source": [
    "for index, (inputs,labels) in enumerate(test_dataloader): \n",
    "    instances = inputs[0:5].clone().detach()# .unsqueeze(0)\n",
    "    break\n",
    "    \n",
    "def ablator_interpretability(net, ablator):\n",
    "    x = net.forward(instances)\n",
    "    attr = ablator.attribute(instances, show_progress=True, baselines=0)\n",
    "    return attr, labels, x\n",
    "\n",
    "\n",
    "print(\"test_data\")\n",
    "test_results1 = ablator_interpretability(net1, ablator1)\n",
    "test_results2 = ablator_interpretability(net2, ablator2)\n",
    "test_results3 = ablator_interpretability(net3, ablator3)"
   ]
  },
  {
   "cell_type": "code",
   "execution_count": 26,
   "id": "fcd91a0c",
   "metadata": {},
   "outputs": [
    {
     "data": {
      "image/png": "[encoded data removed]",
      "text/plain": [
       "<Figure size 600x400 with 1 Axes>"
      ]
     },
     "metadata": {
      "needs_background": "light"
     },
     "output_type": "display_data"
    },
    {
     "name": "stdout",
     "output_type": "stream",
     "text": [
      "labels:[651. 599.], predictions:[645.3023 591.4455]\n"
     ]
    },
    {
     "data": {
      "image/png": "[encoded data removed]",
      "text/plain": [
       "<Figure size 600x400 with 1 Axes>"
      ]
     },
     "metadata": {
      "needs_background": "light"
     },
     "output_type": "display_data"
    },
    {
     "name": "stdout",
     "output_type": "stream",
     "text": [
      "labels:[610. 587.], predictions:[603.5267 561.9971]\n"
     ]
    },
    {
     "data": {
      "image/png": "[encoded data removed]",
      "text/plain": [
       "<Figure size 600x400 with 1 Axes>"
      ]
     },
     "metadata": {
      "needs_background": "light"
     },
     "output_type": "display_data"
    },
    {
     "name": "stdout",
     "output_type": "stream",
     "text": [
      "labels:[475. 433.], predictions:[479.40192 434.12912]\n"
     ]
    },
    {
     "data": {
      "image/png": "[encoded data removed]",
      "text/plain": [
       "<Figure size 600x400 with 1 Axes>"
      ]
     },
     "metadata": {
      "needs_background": "light"
     },
     "output_type": "display_data"
    },
    {
     "name": "stdout",
     "output_type": "stream",
     "text": [
      "labels:[511. 399.], predictions:[502.2003  452.70816]\n"
     ]
    },
    {
     "data": {
      "image/png": "[encoded data removed]",
      "text/plain": [
       "<Figure size 600x400 with 1 Axes>"
      ]
     },
     "metadata": {
      "needs_background": "light"
     },
     "output_type": "display_data"
    },
    {
     "name": "stdout",
     "output_type": "stream",
     "text": [
      "labels:[446. 379.], predictions:[444.0059  394.73935]\n"
     ]
    }
   ],
   "source": [
    "visualize_attribution([test_results3, test_results2])"
   ]
  },
  {
   "cell_type": "markdown",
   "id": "92a1acdb",
   "metadata": {},
   "source": [
    "### Specific protein selection by name for interpretational section of experiment ###"
   ]
  },
  {
   "cell_type": "code",
   "execution_count": 60,
   "id": "64f74313",
   "metadata": {},
   "outputs": [
    {
     "data": {
      "text/plain": [
       "['A', 'B', 'T', 'Z', 'X']"
      ]
     },
     "execution_count": 60,
     "metadata": {},
     "output_type": "execute_result"
    }
   ],
   "source": [
    "_int2acid = new_dict = dict([(value, key) for key, value in _acid2int.items()])\n",
    "\n",
    "def int2acid(seq : int) -> list:\n",
    "    return [(_int2acid[i]) for i in seq]\n",
    "\n",
    "x = [1,21,17,22,23]\n",
    "int2acid(x) # returns [1, 21, 17, 22, 23]"
   ]
  },
  {
   "cell_type": "code",
   "execution_count": 322,
   "id": "469ccb07",
   "metadata": {},
   "outputs": [
    {
     "name": "stdout",
     "output_type": "stream",
     "text": [
      "48 avGFP\n",
      "350\n",
      "238 MSKGEELFTGVVPILVELDGDVNGHKFSVSGEGEGDATYGKLTLKFICTTGKLPVPWPTLVTTFSYGVQCFSRYPDHMKQHDFFKSAMPEGYVQERTIFFKDDGNYKTRAEVKFEGDTLVNRIELKGIDFKEDGNILGHKLEYNYNSHNVYIMADKQKNGIKVNFKIRHNIEDGSVQLADHYQQNTPIGDGPVLLPDNHYLSTQSALSKDPNEKRDHMVLLEFVTAAGITHGMDELYK\n",
      "SYG\n",
      "tensor([509.0000, 395.0000])\n"
     ]
    }
   ],
   "source": [
    "#GFP flourophore position: residues 65–67 Ser-Tyr-Gly  ===  S-Y-G\n",
    "def find_protein(name):\n",
    "    for index, f_name in enumerate(name_list):\n",
    "        if(name.lower() == f_name.lower()):\n",
    "            seq = fp_dataset[index][0].numpy()\n",
    "            CapitalSeq = int2acid(seq)\n",
    "            CapitalSeq = \"\".join(CapitalSeq).replace(\"?\",\"\")\n",
    "            labels = fp_dataset[index][1]/normalizer[0]\n",
    "            # print(labels)\n",
    "            return (index, f_name, seq, CapitalSeq, labels)\n",
    "\n",
    "(index, f_name, seq, CapitalSeq, labels) = find_protein(\"avgfp\")\n",
    "print(index, f_name)\n",
    "print(len(fp_dataset[index][0]))\n",
    "print(len(CapitalSeq),CapitalSeq)\n",
    "print(CapitalSeq[64:67])\n",
    "print(labels)"
   ]
  },
  {
   "cell_type": "code",
   "execution_count": 84,
   "id": "a6cbea53",
   "metadata": {},
   "outputs": [
    {
     "name": "stdout",
     "output_type": "stream",
     "text": [
      "train_data\n"
     ]
    },
    {
     "name": "stderr",
     "output_type": "stream",
     "text": [
      "Feature Ablation attribution: 100%|██████████████████████████████████████████████████| 351/351 [01:21<00:00,  4.28it/s]\n",
      "Feature Ablation attribution: 100%|██████████████████████████████████████████████████| 351/351 [01:20<00:00,  4.39it/s]\n"
     ]
    }
   ],
   "source": [
    "def ablator_interpretability(_net, _ablator, _instances):\n",
    "    x = _net.forward(_instances)\n",
    "    attr = _ablator.attribute(_instances, show_progress=True, baselines=0)\n",
    "    return attr, labels, x\n",
    "\n",
    "\n",
    "print(\"train_data\")\n",
    "gfp_results1 = ablator_interpretability(net2, ablator2, torch.tensor([seq]))\n",
    "gfp_results2 = ablator_interpretability(net3, ablator3, torch.tensor([seq]))"
   ]
  },
  {
   "cell_type": "code",
   "execution_count": 330,
   "id": "c366ba2c",
   "metadata": {},
   "outputs": [],
   "source": [
    "\n",
    "def visualize_attribution_with_flourophore(attr_list, title, fl_pos, m_pos=None, m_pos_name=\"m-pos\"):\n",
    "    \n",
    "    plot_data = []\n",
    "    plot_data.append([0]*350)\n",
    "    if(m_pos != None):\n",
    "        plot_data.append([0]*350)\n",
    "    for model_nr in range(len(attr_list)): # bottom, top\n",
    "        attribution, labels, predictions = attr_list[model_nr]\n",
    "        data = attribution.detach().numpy()[0:2]\n",
    "        data = data[:,:350]**2\n",
    "        plot_data.append(data[0])\n",
    "        plot_data.append(data[1])\n",
    "        \n",
    "    # Plot attributions    \n",
    "    default_dpi = matplotlib.rcParamsDefault['figure.dpi']\n",
    "    matplotlib.rcParams['figure.dpi'] = default_dpi*1.5\n",
    "    ax = plt.gca()\n",
    "    ax.set_aspect(10)\n",
    "    if(m_pos != None):\n",
    "        ax.set_yticks([0.5,1.5,2.5,3.5,4.5,5.5], minor=False)\n",
    "        ax.set_yticklabels([m_pos_name, \"f-pos\",\"m1 ex\",\"m1 em\",\"m2 ex\",\"m2 em\"], minor=False)\n",
    "    else:\n",
    "        ax.set_yticks([0.5,1.5,2.5,3.5,4.5], minor=False)\n",
    "        ax.set_yticklabels([\"f-pos\",\"m1 ex\",\"m1 em\",\"m2 ex\",\"m2 em\"], minor=False)        \n",
    "    plt.pcolor(plot_data, cmap=matplotlib.cm.Blues)\n",
    "    plt.title(title)\n",
    "    \n",
    "    # Show flourophore position\n",
    "    fl_visualization = [0]*350\n",
    "    for pos in fl_pos:\n",
    "        fl_visualization[pos-1]=0.0001\n",
    "    \n",
    "    \n",
    "    if m_pos == None:\n",
    "        plt.pcolor([fl_visualization], cmap=matplotlib.cm.inferno)\n",
    "    else:\n",
    "        plt.pcolor([[0]*350, fl_visualization], cmap=matplotlib.cm.inferno)\n",
    "        fl_visualization = [0]*350\n",
    "        for pos in m_pos:\n",
    "            fl_visualization[pos-1]=0.0001\n",
    "        plt.pcolor([fl_visualization], cmap=matplotlib.cm.viridis)        \n",
    "    plt.show()"
   ]
  },
  {
   "cell_type": "code",
   "execution_count": 331,
   "id": "77a467ac",
   "metadata": {},
   "outputs": [
    {
     "data": {
      "image/png": "[encoded data removed]",
      "text/plain": [
       "<Figure size 900x600 with 1 Axes>"
      ]
     },
     "metadata": {
      "needs_background": "light"
     },
     "output_type": "display_data"
    }
   ],
   "source": [
    "visualize_attribution_with_flourophore([gfp_results2, gfp_results1], title=\"Attribution for GFP\", fl_pos=[65,66,67])"
   ]
  },
  {
   "cell_type": "code",
   "execution_count": 199,
   "id": "64a2f602",
   "metadata": {},
   "outputs": [
    {
     "name": "stdout",
     "output_type": "stream",
     "text": [
      "288 mCerulean2.N(T65S)\n",
      "350\n",
      "239 MVSKGEELFTGVVPILVELDGDVNGHKFSVSGEGEGDATYGKLTLKFICTTGKLPVPWPTLVTTLSWGVQCFARYPDHMKQHDFFKSAMPEGYVQERTIFFKDDGNYKTRAEVKFEGDTLVNRIELKGIDFKEDGNILGHKLEYNAIHGNVYITADKQKNGIKANFGLNCNIEDGSVQLADHYQQNTPIGDGPVLLPDNHYLSIQSKLSKDPNEKRDHMVLLEFVTAAGITLGMDELYK\n",
      "SWG\n",
      "tensor([481., 439.])\n"
     ]
    }
   ],
   "source": [
    "(index, f_name, seq, CapitalSeq, labels) = find_protein(\"mCerulean2.N(T65S)\")\n",
    "print(index, f_name)\n",
    "print(len(fp_dataset[index][0]))\n",
    "print(len(CapitalSeq),CapitalSeq)\n",
    "print(CapitalSeq[65:68])\n",
    "print(labels)"
   ]
  },
  {
   "cell_type": "code",
   "execution_count": 203,
   "id": "9a8a759f",
   "metadata": {},
   "outputs": [
    {
     "name": "stderr",
     "output_type": "stream",
     "text": [
      "Feature Ablation attribution: 100%|██████████████████████████████████████████████████| 351/351 [01:01<00:00,  5.74it/s]\n",
      "Feature Ablation attribution: 100%|██████████████████████████████████████████████████| 351/351 [01:02<00:00,  5.62it/s]\n"
     ]
    }
   ],
   "source": [
    "mCerulean2_results1 = ablator_interpretability(net2, ablator2, torch.tensor([seq]))\n",
    "mCerulean2_results2 = ablator_interpretability(net3, ablator3, torch.tensor([seq]))"
   ]
  },
  {
   "cell_type": "code",
   "execution_count": 332,
   "id": "aef15d87",
   "metadata": {},
   "outputs": [
    {
     "data": {
      "image/png": "[encoded data removed]",
      "text/plain": [
       "<Figure size 900x600 with 1 Axes>"
      ]
     },
     "metadata": {
      "needs_background": "light"
     },
     "output_type": "display_data"
    }
   ],
   "source": [
    "fl_pos=[66,67,68]\n",
    "m_pos = [67,147,154,164,213,2,64,65,212,231,72,145,148,206,147,148,166,167,168,169,203,65]\n",
    "title=\"Attribution for mCerulean2.N(T65S)\"\n",
    "visualize_attribution_with_flourophore([mCerulean2_results2, mCerulean2_results1], title=title, fl_pos=fl_pos, m_pos=m_pos)"
   ]
  },
  {
   "cell_type": "code",
   "execution_count": null,
   "id": "1b772aaf",
   "metadata": {},
   "outputs": [],
   "source": [
    "# Y66W; N146I, M153T, V163A, N212K; M1\\_S2insV, F64L, S65T, K212N, H231L; S72A, Y145A, H148D; A206K; S147H, D148G, K166G, I167L, R168N, H169C; T203I; T65S"
   ]
  },
  {
   "cell_type": "code",
   "execution_count": 235,
   "id": "c4e3a9dc",
   "metadata": {},
   "outputs": [
    {
     "name": "stdout",
     "output_type": "stream",
     "text": [
      "163 eqFP611\n",
      "350\n",
      "231 MNSLIKENMRMMVVMEGSVNGYQFKCTGEGDGNPYMGTQTMRIKVVEGGPLPFAFDILATSFMYGSKTFIKHTKGIPDFFKQSFPEGFTWERVTRYEDGGVFTVMQDTSLEDGCLVYHAKVTGVNFPSNGAVMQKKTKGWEPNTEMLYPADGGLRGYSQMALNVDGGGYLSCSFETTYRSKKTVENFKMPGFHFVDHRLERLEESDKEMFVVQHEHAVAKFCDLPSKLGRL\n",
      "MYG\n",
      "W R E E\n",
      "tensor([611., 559.])\n"
     ]
    }
   ],
   "source": [
    "(index, f_name, seq, CapitalSeq, labels) = find_protein(\"eqFP611\")\n",
    "print(index, f_name)\n",
    "print(len(fp_dataset[index][0]))\n",
    "print(len(CapitalSeq),CapitalSeq)\n",
    "print(CapitalSeq[62:65])\n",
    "print(CapitalSeq[90-1],CapitalSeq[92-1],CapitalSeq[145-1],CapitalSeq[215-1])\n",
    "print(labels)"
   ]
  },
  {
   "cell_type": "code",
   "execution_count": 226,
   "id": "41189601",
   "metadata": {},
   "outputs": [
    {
     "name": "stderr",
     "output_type": "stream",
     "text": [
      "Feature Ablation attribution: 100%|██████████████████████████████████████████████████| 351/351 [01:02<00:00,  5.59it/s]\n",
      "Feature Ablation attribution: 100%|██████████████████████████████████████████████████| 351/351 [01:05<00:00,  5.35it/s]\n"
     ]
    }
   ],
   "source": [
    "eqFP611_results1 = ablator_interpretability(net2, ablator2, torch.tensor([seq]))\n",
    "eqFP611_results2 = ablator_interpretability(net3, ablator3, torch.tensor([seq]))"
   ]
  },
  {
   "cell_type": "code",
   "execution_count": 333,
   "id": "ae4a39d1",
   "metadata": {},
   "outputs": [
    {
     "data": {
      "image/png": "[encoded data removed]",
      "text/plain": [
       "<Figure size 900x600 with 1 Axes>"
      ]
     },
     "metadata": {
      "needs_background": "light"
     },
     "output_type": "display_data"
    }
   ],
   "source": [
    "fl_pos=[63,64,65]\n",
    "m_pos = [90,92,145,215]\n",
    "title=\"Attribution for eqFP611\"\n",
    "visualize_attribution_with_flourophore([eqFP611_results2, eqFP611_results1], title=title, fl_pos=fl_pos, m_pos=m_pos, m_pos_name=\"h.cons.\")"
   ]
  },
  {
   "cell_type": "code",
   "execution_count": 326,
   "id": "943028b8",
   "metadata": {},
   "outputs": [
    {
     "name": "stdout",
     "output_type": "stream",
     "text": [
      "293 mCherry\n",
      "350\n",
      "236 MVSKGEEDNMAIIKEFMRFKVHMEGSVNGHEFEIEGEGEGRPYEGTQTAKLKVTKGGPLPFAWDILSPQFMYGSKAYVKHPADIPDYLKLSFPEGFKWERVMNFEDGGVVTVTQDSSLQDGEFIYKVKLRGTNFPSDGPVMQKKTMGWEASSERMYPEDGALKGEIKQRLKLKDGGHYDAEVKTTYKAKKPVQLPGAYNVNIKLDITSHNEDYTIVEQYERAEGRHSTGGMDELYK\n",
      "MYG\n",
      "tensor([610., 587.])\n"
     ]
    }
   ],
   "source": [
    "(index, f_name, seq, CapitalSeq, labels) = find_protein(\"mCherry\")\n",
    "print(index, f_name)\n",
    "print(len(fp_dataset[index][0]))\n",
    "print(len(CapitalSeq),CapitalSeq)\n",
    "#\n",
    "print(CapitalSeq[70:73])\n",
    "# print(CapitalSeq[90-1+4],CapitalSeq[92-1+4],CapitalSeq[145-1+4],CapitalSeq[215-1+4])\n",
    "print(labels)"
   ]
  },
  {
   "cell_type": "code",
   "execution_count": 246,
   "id": "cf143c71",
   "metadata": {},
   "outputs": [],
   "source": []
  },
  {
   "cell_type": "code",
   "execution_count": 327,
   "id": "c7674736",
   "metadata": {},
   "outputs": [
    {
     "name": "stderr",
     "output_type": "stream",
     "text": [
      "Feature Ablation attribution: 100%|██████████████████████████████████████████████████| 351/351 [01:03<00:00,  5.57it/s]\n",
      "Feature Ablation attribution: 100%|██████████████████████████████████████████████████| 351/351 [01:01<00:00,  5.69it/s]\n"
     ]
    }
   ],
   "source": [
    "mCherry_results1 = ablator_interpretability(net2, ablator2, torch.tensor([seq]))\n",
    "mCherry_results2 = ablator_interpretability(net3, ablator3, torch.tensor([seq]))"
   ]
  },
  {
   "cell_type": "code",
   "execution_count": 334,
   "id": "6e5846ff",
   "metadata": {},
   "outputs": [
    {
     "data": {
      "image/png": "[encoded data removed]",
      "text/plain": [
       "<Figure size 900x600 with 1 Axes>"
      ]
     },
     "metadata": {
      "needs_background": "light"
     },
     "output_type": "display_data"
    }
   ],
   "source": [
    "fl_pos=[71,72,73]\n",
    "title=\"Attribution for mCherry\"\n",
    "visualize_attribution_with_flourophore([mCherry_results2, mCherry_results1], title=title, fl_pos=fl_pos)"
   ]
  },
  {
   "cell_type": "code",
   "execution_count": 321,
   "id": "dff79319",
   "metadata": {},
   "outputs": [
    {
     "name": "stdout",
     "output_type": "stream",
     "text": [
      "48 avgfp\n",
      "0 0\n",
      "0 0\n",
      "293 mcherry\n"
     ]
    }
   ],
   "source": [
    "#GFP flourophore position: residues 65–67 Ser-Tyr-Gly  ===  S-Y-G\n",
    "def find_protein(name):\n",
    "    for index, f_name in enumerate(name_list):\n",
    "        if(name.lower() == f_name.lower()):\n",
    "            name = name.lower()\n",
    "            seq = fp_dataset[index][0].numpy()\n",
    "            # print(train_set[:,0])\n",
    "            for index2, train_seq in enumerate(test_set):\n",
    "                # print(seq,train_seq[0].numpy())\n",
    "                \n",
    "                if((seq==train_seq[0].numpy()).all()):\n",
    "                     return (index, index2, name, seq, CapitalSeq)\n",
    "                # break\n",
    "    return(0,0,0,0,0)\n",
    "\n",
    "(index, index2, f_name, seq, seq_train) = find_protein(\"avgfp\")\n",
    "print(index, f_name)\n",
    "(index, index2, f_name, seq, seq_train) = find_protein(\"mCerulean2.N(T65S)\")\n",
    "print(index, f_name)\n",
    "(index, index2, f_name, seq, seq_train) = find_protein(\"eqFP611\")\n",
    "print(index, f_name)\n",
    "(index, index2, f_name, seq, seq_train) = find_protein(\"mCherry\")\n",
    "print(index, f_name) # , fp_dataset[index][0], train_set[index2][0])"
   ]
  },
  {
   "cell_type": "code",
   "execution_count": null,
   "id": "f874687a",
   "metadata": {},
   "outputs": [],
   "source": []
  }
 ],
 "metadata": {
  "accelerator": "GPU",
  "colab": {
   "collapsed_sections": [],
   "name": "v2_interpretability_basis.ipynb",
   "provenance": []
  },
  "kernelspec": {
   "display_name": "Python39 DeepLearningKernel",
   "language": "python",
   "name": "ipyk3"
  },
  "language_info": {
   "codemirror_mode": {
    "name": "ipython",
    "version": 3
   },
   "file_extension": ".py",
   "mimetype": "text/x-python",
   "name": "python",
   "nbconvert_exporter": "python",
   "pygments_lexer": "ipython3",
   "version": "3.9.7"
  }
 },
 "nbformat": 4,
 "nbformat_minor": 5
}
