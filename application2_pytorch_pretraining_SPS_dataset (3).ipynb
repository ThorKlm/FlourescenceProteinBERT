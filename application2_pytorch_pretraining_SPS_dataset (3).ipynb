{
  "cells": [
    {
      "cell_type": "code",
      "execution_count": null,
      "id": "c4a11efe",
      "metadata": {
        "id": "c4a11efe"
      },
      "outputs": [],
      "source": [
        "import torch\n",
        "\n",
        "seed = 1\n",
        "torch.manual_seed(seed)\n",
        "torch.cuda.manual_seed_all(seed)\n",
        "\n",
        "device = torch.device(\"cuda\" if torch.cuda.is_available() else \"cpu\")\n",
        "if(device == \"cuda\"):\n",
        "    torch.cuda.synchronize()"
      ]
    },
    {
      "cell_type": "code",
      "source": [
        "!mkdir models"
      ],
      "metadata": {
        "id": "6i_qlgIf39hG"
      },
      "id": "6i_qlgIf39hG",
      "execution_count": null,
      "outputs": []
    },
    {
      "cell_type": "code",
      "source": [
        "!mkdir datasets"
      ],
      "metadata": {
        "id": "JHeFE5wj3-3_"
      },
      "id": "JHeFE5wj3-3_",
      "execution_count": null,
      "outputs": []
    },
    {
      "cell_type": "code",
      "source": [
        "pip install protein_bert_pytorch"
      ],
      "metadata": {
        "colab": {
          "base_uri": "https://localhost:8080/"
        },
        "id": "zmWWfjVAPTRR",
        "outputId": "597f3ba2-e84d-4742-e2b1-7873f6ee0f15"
      },
      "id": "zmWWfjVAPTRR",
      "execution_count": null,
      "outputs": [
        {
          "output_type": "stream",
          "name": "stdout",
          "text": [
            "Requirement already satisfied: protein_bert_pytorch in /usr/local/lib/python3.7/dist-packages (0.1.0)\n",
            "Requirement already satisfied: einops>=0.3 in /usr/local/lib/python3.7/dist-packages (from protein_bert_pytorch) (0.4.1)\n",
            "Requirement already satisfied: torch>=1.6 in /usr/local/lib/python3.7/dist-packages (from protein_bert_pytorch) (1.11.0+cu113)\n",
            "Requirement already satisfied: typing-extensions in /usr/local/lib/python3.7/dist-packages (from torch>=1.6->protein_bert_pytorch) (4.2.0)\n"
          ]
        }
      ]
    },
    {
      "cell_type": "code",
      "execution_count": null,
      "id": "0ad0ee8d",
      "metadata": {
        "id": "0ad0ee8d"
      },
      "outputs": [],
      "source": [
        "import torch\n",
        "from protein_bert_pytorch import ProteinBERT, PretrainingWrapper\n",
        "\n",
        "model = ProteinBERT(\n",
        "    num_tokens = 25,\n",
        "    num_annotation = 128, # 8943,\n",
        "    dim = 512,\n",
        "    dim_global = 256,\n",
        "    depth = 6,\n",
        "    narrow_conv_kernel = 9,\n",
        "    wide_conv_kernel = 9,\n",
        "    wide_conv_dilation = 5,\n",
        "    attn_heads = 8,\n",
        "    attn_dim_head = 64,\n",
        "    local_to_global_attn = False,\n",
        "    local_self_attn = True,\n",
        "    num_global_tokens = 2,\n",
        "    glu_conv = False\n",
        ")"
      ]
    },
    {
      "cell_type": "code",
      "execution_count": null,
      "id": "da540d0f",
      "metadata": {
        "colab": {
          "base_uri": "https://localhost:8080/"
        },
        "id": "da540d0f",
        "outputId": "7da874e8-cc8e-4e78-91dd-0290bd3cff76"
      },
      "outputs": [
        {
          "output_type": "execute_result",
          "data": {
            "text/plain": [
              "[1, 21, 17, 22, 23]"
            ]
          },
          "metadata": {},
          "execution_count": 4
        }
      ],
      "source": [
        "_aa2int = {'A' : 1,'R' : 2,'N' : 3,'D' : 4,'C' : 5,'Q' : 6,'E' : 7,'G' : 8,'H' : 9,'I' : 10,\n",
        "          'L' : 11,'K' : 12,'M' : 13,'F' : 14,'P' : 15,'S' : 16,'T' : 17,'W' : 18,'Y' : 19,\n",
        "          'V' : 20,'B' : 21,'Z' : 22,'X' : 23,'*' : 24,'-' : 25,'?' : 0}\n",
        "\n",
        "def aa2int(seq : str) -> list:\n",
        "    return [_aa2int[i] for i in seq]\n",
        "\n",
        "x = 'ABTZX'\n",
        "aa2int(x) # returns [1, 21, 17, 22, 23]"
      ]
    },
    {
      "cell_type": "code",
      "source": [
        "dataset = []\n",
        "\n",
        "import pandas\n",
        "\n",
        "\n",
        "# dataset_loaded = pandas.read_pickle('datasets/compressed_sps_dataset.pkl')\n",
        "\n",
        "with open('datasets/compressed_sps_dataset2.pkl', 'rb') as filereader:\n",
        "   dataset_loaded = pickle.load(filereader)\n",
        "\n",
        "for instance in dataset_loaded:\n",
        "    seq = aa2int(instance[0])\n",
        "    seq = seq + [0]*(250-len(seq))\n",
        "    dataset.append([torch.tensor(seq), instance[1]])\n",
        "    \n",
        "print(len(dataset))"
      ],
      "metadata": {
        "colab": {
          "base_uri": "https://localhost:8080/"
        },
        "id": "3xIQhUlokAmu",
        "outputId": "f275e4f1-0b54-4aed-ce3b-35eb2eb9fe34"
      },
      "id": "3xIQhUlokAmu",
      "execution_count": null,
      "outputs": [
        {
          "output_type": "stream",
          "name": "stdout",
          "text": [
            "191734\n"
          ]
        }
      ]
    },
    {
      "cell_type": "code",
      "execution_count": null,
      "id": "550be144",
      "metadata": {
        "colab": {
          "base_uri": "https://localhost:8080/"
        },
        "id": "550be144",
        "outputId": "3a6e21f5-69ec-49f2-a482-3b511a14390f"
      },
      "outputs": [
        {
          "output_type": "stream",
          "name": "stdout",
          "text": [
            "11984\n"
          ]
        }
      ],
      "source": [
        "# fill up the selected sequences to equal length\n",
        "# split into train and test-set\n",
        "\n",
        "\n",
        "from torch.utils.data import DataLoader, random_split\n",
        "\n",
        "test_size = int(0.0 * len(dataset))\n",
        "train_size = len(dataset) - test_size\n",
        "train_set, test_set = random_split(dataset, [train_size, test_size])\n",
        "\n",
        "batch_size=16\n",
        "train_dataloader = DataLoader(train_set, batch_size=batch_size, shuffle=True)\n",
        "\n",
        "# Sizes of resulting train and test-set\n",
        "print(len(train_dataloader))"
      ]
    },
    {
      "cell_type": "code",
      "execution_count": null,
      "id": "c33ff6a3",
      "metadata": {
        "id": "c33ff6a3"
      },
      "outputs": [],
      "source": [
        "# do the following in a loop for a lot of sequences and annotations\n",
        "from tqdm.notebook import tqdm\n",
        "criterion = torch.nn.MSELoss()\n",
        "\n",
        "def train_unsupervised(model, dataloader, epochs = 1, lr=0.000001, data_divisor=10):\n",
        "    for epoch in range(epochs):\n",
        "      optimizer = torch.optim.Adam(model.parameters(), lr=lr)\n",
        "      summed_loss = 0.0\n",
        "      model.to(device)\n",
        "      with tqdm(total=len(dataloader)/data_divisor) as pbar:\n",
        "          for index_data, (inputs,labels) in enumerate(dataloader):\n",
        "              optimizer.zero_grad()\n",
        "              \n",
        "              annotation_list = [[0]*128]*inputs.shape[0]\n",
        "              annotation = torch.tensor(annotation_list).float().to(device)\n",
        "              mask       = torch.ones(inputs.shape).bool().to(device)\n",
        "              \n",
        "              loss = learner(inputs.to(device), annotation, mask = mask) # (2, 2048, 21), (2, 8943)\n",
        "              summed_loss+=loss.detach()\n",
        "              loss.backward()\n",
        "              optimizer.step()\n",
        "              pbar.set_description(f'loss: {\"%.5f\" % (summed_loss/((index_data+1)*batch_size))}')\n",
        "              pbar.update(1)\n",
        "              # Only go for 10% of training data each epoch\n",
        "              if(index_data>=len(dataloader)/data_divisor):\n",
        "                  break\n",
        "          pbar.close()"
      ]
    },
    {
      "cell_type": "code",
      "source": [
        "model = torch.load('models/pretrained_sps_20.pt')\n",
        "model.to(device)\n",
        "learner = PretrainingWrapper(\n",
        "    model,\n",
        "    random_replace_token_prob = 0.05,    # what percentage of the tokens to replace with a random one, defaults to 5% as in paper\n",
        "    remove_annotation_prob = 0.0,       # what percentage of annotations to remove, defaults to 25%\n",
        "    add_annotation_prob = 0.00,          # probability to add an annotation randomly, defaults to 1%\n",
        "    remove_all_annotations_prob = 0.0,   # what percentage of batch items to remove annotations for completely, defaults to 50%\n",
        "    seq_loss_weight = 1.,                # weight on loss of sequence\n",
        "    annotation_loss_weight = 0.,         # weight on loss of annotation\n",
        "    exclude_token_ids = (0, 1, 2)        # for excluding padding, start, and end tokens from being masked\n",
        ")"
      ],
      "metadata": {
        "id": "qxqOrS4PO6RY"
      },
      "id": "qxqOrS4PO6RY",
      "execution_count": null,
      "outputs": []
    },
    {
      "cell_type": "code",
      "source": [
        "train_unsupervised(model, train_dataloader, epochs=5)\n",
        "torch.save(model, 'models/pretrained_sps_25.pt')"
      ],
      "metadata": {
        "colab": {
          "base_uri": "https://localhost:8080/",
          "height": 49,
          "referenced_widgets": [
            "974f361111024d5e8d85be229424304c",
            "f7fc02526b7b43018b89907c88747242",
            "3f47f6869fb34ebb9f43e5abf688abfd",
            "7498f961e35d4c3aaaf01c6ae50573da",
            "b52d121295854193ade7840174f0082f",
            "3e34107b18784e4eb959208c8594524a",
            "973fd5a4d83547078e12cd19addf011d",
            "388c5fa6b71f4b1dadfa5f8f25952b59",
            "48368f4d72df4ebda2bb5da0d7e8fe22",
            "f388b701bc9240689008334e4294f900",
            "0fb6b6dc71ff4d19a54db71844af47e0"
          ]
        },
        "id": "Yq13mlJsq9Ha",
        "outputId": "c59bf12c-df9c-4e20-b30c-91e939dd4472"
      },
      "id": "Yq13mlJsq9Ha",
      "execution_count": null,
      "outputs": [
        {
          "output_type": "display_data",
          "data": {
            "text/plain": [
              "  0%|          | 0/1198.4 [00:00<?, ?it/s]"
            ],
            "application/vnd.jupyter.widget-view+json": {
              "version_major": 2,
              "version_minor": 0,
              "model_id": "974f361111024d5e8d85be229424304c"
            }
          },
          "metadata": {}
        }
      ]
    },
    {
      "cell_type": "code",
      "source": [
        "train_unsupervised(model, train_dataloader, epochs=5)\n",
        "torch.save(model, 'models/pretrained_sps_30.pt')"
      ],
      "metadata": {
        "id": "9q3AsOH_3p2Q"
      },
      "id": "9q3AsOH_3p2Q",
      "execution_count": null,
      "outputs": []
    },
    {
      "cell_type": "code",
      "source": [
        "train_unsupervised(model, train_dataloader, epochs=5)\n",
        "torch.save(model, 'models/pretrained_sps_35.pt')"
      ],
      "metadata": {
        "id": "x39TqFC-3rOP"
      },
      "id": "x39TqFC-3rOP",
      "execution_count": null,
      "outputs": []
    },
    {
      "cell_type": "code",
      "source": [
        "train_unsupervised(model, train_dataloader, epochs=5)\n",
        "torch.save(model, 'models/pretrained_sps_40.pt')"
      ],
      "metadata": {
        "id": "goynYpYN3sse"
      },
      "id": "goynYpYN3sse",
      "execution_count": null,
      "outputs": []
    },
    {
      "cell_type": "code",
      "source": [
        "train_unsupervised(model, train_dataloader, epochs=5)\n",
        "torch.save(model, 'models/pretrained_sps_45.pt')"
      ],
      "metadata": {
        "id": "mo18f92Z3ugu"
      },
      "id": "mo18f92Z3ugu",
      "execution_count": null,
      "outputs": []
    },
    {
      "cell_type": "code",
      "source": [
        "train_unsupervised(model, train_dataloader, epochs=5)\n",
        "torch.save(model, 'models/pretrained_sps_50.pt')"
      ],
      "metadata": {
        "id": "8g6R4px-3v0c"
      },
      "id": "8g6R4px-3v0c",
      "execution_count": null,
      "outputs": []
    }
  ],
  "metadata": {
    "kernelspec": {
      "display_name": "Python39 DeepLearningKernel",
      "language": "python",
      "name": "ipyk3"
    },
    "language_info": {
      "codemirror_mode": {
        "name": "ipython",
        "version": 3
      },
      "file_extension": ".py",
      "mimetype": "text/x-python",
      "name": "python",
      "nbconvert_exporter": "python",
      "pygments_lexer": "ipython3",
      "version": "3.9.7"
    },
    "colab": {
      "name": "application2_pytorch_pretraining_SPS_dataset.ipynb",
      "provenance": [],
      "collapsed_sections": []
    },
    "accelerator": "GPU",
    "widgets": {
      "application/vnd.jupyter.widget-state+json": {
        "974f361111024d5e8d85be229424304c": {
          "model_module": "@jupyter-widgets/controls",
          "model_name": "HBoxModel",
          "model_module_version": "1.5.0",
          "state": {
            "_dom_classes": [],
            "_model_module": "@jupyter-widgets/controls",
            "_model_module_version": "1.5.0",
            "_model_name": "HBoxModel",
            "_view_count": null,
            "_view_module": "@jupyter-widgets/controls",
            "_view_module_version": "1.5.0",
            "_view_name": "HBoxView",
            "box_style": "",
            "children": [
              "IPY_MODEL_f7fc02526b7b43018b89907c88747242",
              "IPY_MODEL_3f47f6869fb34ebb9f43e5abf688abfd",
              "IPY_MODEL_7498f961e35d4c3aaaf01c6ae50573da"
            ],
            "layout": "IPY_MODEL_b52d121295854193ade7840174f0082f"
          }
        },
        "f7fc02526b7b43018b89907c88747242": {
          "model_module": "@jupyter-widgets/controls",
          "model_name": "HTMLModel",
          "model_module_version": "1.5.0",
          "state": {
            "_dom_classes": [],
            "_model_module": "@jupyter-widgets/controls",
            "_model_module_version": "1.5.0",
            "_model_name": "HTMLModel",
            "_view_count": null,
            "_view_module": "@jupyter-widgets/controls",
            "_view_module_version": "1.5.0",
            "_view_name": "HTMLView",
            "description": "",
            "description_tooltip": null,
            "layout": "IPY_MODEL_3e34107b18784e4eb959208c8594524a",
            "placeholder": "​",
            "style": "IPY_MODEL_973fd5a4d83547078e12cd19addf011d",
            "value": "loss: 35.49915: "
          }
        },
        "3f47f6869fb34ebb9f43e5abf688abfd": {
          "model_module": "@jupyter-widgets/controls",
          "model_name": "FloatProgressModel",
          "model_module_version": "1.5.0",
          "state": {
            "_dom_classes": [],
            "_model_module": "@jupyter-widgets/controls",
            "_model_module_version": "1.5.0",
            "_model_name": "FloatProgressModel",
            "_view_count": null,
            "_view_module": "@jupyter-widgets/controls",
            "_view_module_version": "1.5.0",
            "_view_name": "ProgressView",
            "bar_style": "success",
            "description": "",
            "description_tooltip": null,
            "layout": "IPY_MODEL_388c5fa6b71f4b1dadfa5f8f25952b59",
            "max": 1198.4,
            "min": 0,
            "orientation": "horizontal",
            "style": "IPY_MODEL_48368f4d72df4ebda2bb5da0d7e8fe22",
            "value": 1198.4
          }
        },
        "7498f961e35d4c3aaaf01c6ae50573da": {
          "model_module": "@jupyter-widgets/controls",
          "model_name": "HTMLModel",
          "model_module_version": "1.5.0",
          "state": {
            "_dom_classes": [],
            "_model_module": "@jupyter-widgets/controls",
            "_model_module_version": "1.5.0",
            "_model_name": "HTMLModel",
            "_view_count": null,
            "_view_module": "@jupyter-widgets/controls",
            "_view_module_version": "1.5.0",
            "_view_name": "HTMLView",
            "description": "",
            "description_tooltip": null,
            "layout": "IPY_MODEL_f388b701bc9240689008334e4294f900",
            "placeholder": "​",
            "style": "IPY_MODEL_0fb6b6dc71ff4d19a54db71844af47e0",
            "value": " 1200/? [06:48&lt;00:00,  2.95it/s]"
          }
        },
        "b52d121295854193ade7840174f0082f": {
          "model_module": "@jupyter-widgets/base",
          "model_name": "LayoutModel",
          "model_module_version": "1.2.0",
          "state": {
            "_model_module": "@jupyter-widgets/base",
            "_model_module_version": "1.2.0",
            "_model_name": "LayoutModel",
            "_view_count": null,
            "_view_module": "@jupyter-widgets/base",
            "_view_module_version": "1.2.0",
            "_view_name": "LayoutView",
            "align_content": null,
            "align_items": null,
            "align_self": null,
            "border": null,
            "bottom": null,
            "display": null,
            "flex": null,
            "flex_flow": null,
            "grid_area": null,
            "grid_auto_columns": null,
            "grid_auto_flow": null,
            "grid_auto_rows": null,
            "grid_column": null,
            "grid_gap": null,
            "grid_row": null,
            "grid_template_areas": null,
            "grid_template_columns": null,
            "grid_template_rows": null,
            "height": null,
            "justify_content": null,
            "justify_items": null,
            "left": null,
            "margin": null,
            "max_height": null,
            "max_width": null,
            "min_height": null,
            "min_width": null,
            "object_fit": null,
            "object_position": null,
            "order": null,
            "overflow": null,
            "overflow_x": null,
            "overflow_y": null,
            "padding": null,
            "right": null,
            "top": null,
            "visibility": null,
            "width": null
          }
        },
        "3e34107b18784e4eb959208c8594524a": {
          "model_module": "@jupyter-widgets/base",
          "model_name": "LayoutModel",
          "model_module_version": "1.2.0",
          "state": {
            "_model_module": "@jupyter-widgets/base",
            "_model_module_version": "1.2.0",
            "_model_name": "LayoutModel",
            "_view_count": null,
            "_view_module": "@jupyter-widgets/base",
            "_view_module_version": "1.2.0",
            "_view_name": "LayoutView",
            "align_content": null,
            "align_items": null,
            "align_self": null,
            "border": null,
            "bottom": null,
            "display": null,
            "flex": null,
            "flex_flow": null,
            "grid_area": null,
            "grid_auto_columns": null,
            "grid_auto_flow": null,
            "grid_auto_rows": null,
            "grid_column": null,
            "grid_gap": null,
            "grid_row": null,
            "grid_template_areas": null,
            "grid_template_columns": null,
            "grid_template_rows": null,
            "height": null,
            "justify_content": null,
            "justify_items": null,
            "left": null,
            "margin": null,
            "max_height": null,
            "max_width": null,
            "min_height": null,
            "min_width": null,
            "object_fit": null,
            "object_position": null,
            "order": null,
            "overflow": null,
            "overflow_x": null,
            "overflow_y": null,
            "padding": null,
            "right": null,
            "top": null,
            "visibility": null,
            "width": null
          }
        },
        "973fd5a4d83547078e12cd19addf011d": {
          "model_module": "@jupyter-widgets/controls",
          "model_name": "DescriptionStyleModel",
          "model_module_version": "1.5.0",
          "state": {
            "_model_module": "@jupyter-widgets/controls",
            "_model_module_version": "1.5.0",
            "_model_name": "DescriptionStyleModel",
            "_view_count": null,
            "_view_module": "@jupyter-widgets/base",
            "_view_module_version": "1.2.0",
            "_view_name": "StyleView",
            "description_width": ""
          }
        },
        "388c5fa6b71f4b1dadfa5f8f25952b59": {
          "model_module": "@jupyter-widgets/base",
          "model_name": "LayoutModel",
          "model_module_version": "1.2.0",
          "state": {
            "_model_module": "@jupyter-widgets/base",
            "_model_module_version": "1.2.0",
            "_model_name": "LayoutModel",
            "_view_count": null,
            "_view_module": "@jupyter-widgets/base",
            "_view_module_version": "1.2.0",
            "_view_name": "LayoutView",
            "align_content": null,
            "align_items": null,
            "align_self": null,
            "border": null,
            "bottom": null,
            "display": null,
            "flex": null,
            "flex_flow": null,
            "grid_area": null,
            "grid_auto_columns": null,
            "grid_auto_flow": null,
            "grid_auto_rows": null,
            "grid_column": null,
            "grid_gap": null,
            "grid_row": null,
            "grid_template_areas": null,
            "grid_template_columns": null,
            "grid_template_rows": null,
            "height": null,
            "justify_content": null,
            "justify_items": null,
            "left": null,
            "margin": null,
            "max_height": null,
            "max_width": null,
            "min_height": null,
            "min_width": null,
            "object_fit": null,
            "object_position": null,
            "order": null,
            "overflow": null,
            "overflow_x": null,
            "overflow_y": null,
            "padding": null,
            "right": null,
            "top": null,
            "visibility": null,
            "width": null
          }
        },
        "48368f4d72df4ebda2bb5da0d7e8fe22": {
          "model_module": "@jupyter-widgets/controls",
          "model_name": "ProgressStyleModel",
          "model_module_version": "1.5.0",
          "state": {
            "_model_module": "@jupyter-widgets/controls",
            "_model_module_version": "1.5.0",
            "_model_name": "ProgressStyleModel",
            "_view_count": null,
            "_view_module": "@jupyter-widgets/base",
            "_view_module_version": "1.2.0",
            "_view_name": "StyleView",
            "bar_color": null,
            "description_width": ""
          }
        },
        "f388b701bc9240689008334e4294f900": {
          "model_module": "@jupyter-widgets/base",
          "model_name": "LayoutModel",
          "model_module_version": "1.2.0",
          "state": {
            "_model_module": "@jupyter-widgets/base",
            "_model_module_version": "1.2.0",
            "_model_name": "LayoutModel",
            "_view_count": null,
            "_view_module": "@jupyter-widgets/base",
            "_view_module_version": "1.2.0",
            "_view_name": "LayoutView",
            "align_content": null,
            "align_items": null,
            "align_self": null,
            "border": null,
            "bottom": null,
            "display": null,
            "flex": null,
            "flex_flow": null,
            "grid_area": null,
            "grid_auto_columns": null,
            "grid_auto_flow": null,
            "grid_auto_rows": null,
            "grid_column": null,
            "grid_gap": null,
            "grid_row": null,
            "grid_template_areas": null,
            "grid_template_columns": null,
            "grid_template_rows": null,
            "height": null,
            "justify_content": null,
            "justify_items": null,
            "left": null,
            "margin": null,
            "max_height": null,
            "max_width": null,
            "min_height": null,
            "min_width": null,
            "object_fit": null,
            "object_position": null,
            "order": null,
            "overflow": null,
            "overflow_x": null,
            "overflow_y": null,
            "padding": null,
            "right": null,
            "top": null,
            "visibility": null,
            "width": null
          }
        },
        "0fb6b6dc71ff4d19a54db71844af47e0": {
          "model_module": "@jupyter-widgets/controls",
          "model_name": "DescriptionStyleModel",
          "model_module_version": "1.5.0",
          "state": {
            "_model_module": "@jupyter-widgets/controls",
            "_model_module_version": "1.5.0",
            "_model_name": "DescriptionStyleModel",
            "_view_count": null,
            "_view_module": "@jupyter-widgets/base",
            "_view_module_version": "1.2.0",
            "_view_name": "StyleView",
            "description_width": ""
          }
        }
      }
    }
  },
  "nbformat": 4,
  "nbformat_minor": 5
}